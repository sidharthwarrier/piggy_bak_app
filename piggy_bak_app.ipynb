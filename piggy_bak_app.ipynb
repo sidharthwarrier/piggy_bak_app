{
 "cells": [
  {
   "cell_type": "code",
   "execution_count": null,
   "metadata": {},
   "outputs": [
    {
     "name": "stdout",
     "output_type": "stream",
     "text": [
      "-------------------Start-------------------\n",
      "Start or End : Start\n",
      "Add , Withdraw , Check or Interest : Add\n",
      "Add Amount : 1000\n",
      "After adding , your updated balance  is 1000.0 rupees\n",
      "Start or End : Start\n",
      "Add , Withdraw , Check or Interest : withdraw\n",
      "Withdraw Amount : 300\n",
      "After withdrawing ,  balance amount  is 700.0 rupees\n",
      "Start or End : start\n",
      "Add , Withdraw , Check or Interest : check\n",
      "Your current balance is 700.0 rupees\n",
      "Start or End : start\n",
      "Add , Withdraw , Check or Interest : Interest\n",
      "Enter no:of months : 10\n",
      "Princial is 1050.0 and Interest is 350.0 for 10.0 months at 5% interest rate\n",
      "Start or End : start\n",
      "Add , Withdraw , Check or Interest : check\n",
      "Your current balance is 700.0 rupees\n",
      "Start or End : start\n"
     ]
    }
   ],
   "source": [
    "import piggy_bank"
   ]
  },
  {
   "cell_type": "code",
   "execution_count": null,
   "metadata": {},
   "outputs": [],
   "source": []
  }
 ],
 "metadata": {
  "kernelspec": {
   "display_name": "Python 3",
   "language": "python",
   "name": "python3"
  },
  "language_info": {
   "codemirror_mode": {
    "name": "ipython",
    "version": 3
   },
   "file_extension": ".py",
   "mimetype": "text/x-python",
   "name": "python",
   "nbconvert_exporter": "python",
   "pygments_lexer": "ipython3",
   "version": "3.6.5"
  }
 },
 "nbformat": 4,
 "nbformat_minor": 2
}
